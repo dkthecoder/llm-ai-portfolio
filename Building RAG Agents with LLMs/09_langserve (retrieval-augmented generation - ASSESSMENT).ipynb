{
 "cells": [
  {
   "cell_type": "markdown",
   "id": "90d391c2-0c25-4f4a-9ee1-4bcca57a3d96",
   "metadata": {
    "id": "90d391c2-0c25-4f4a-9ee1-4bcca57a3d96"
   },
   "source": [
    "<center><a href=\"https://www.nvidia.com/en-us/training/\"><img src=\"https://dli-lms.s3.amazonaws.com/assets/general/DLI_Header_White.png\" width=\"400\" height=\"186\" /></a></center>"
   ]
  },
  {
   "cell_type": "markdown",
   "id": "38ee3921-2244-4545-b0df-0b0ebebff32d",
   "metadata": {
    "id": "38ee3921-2244-4545-b0df-0b0ebebff32d"
   },
   "source": [
    "<br>\n",
    "\n",
    "# <font color=\"#76b900\">**Notebook 9:** LangServe and Assessment</font>\n",
    "\n",
    "<br>\n",
    "\n",
    "## LangServe Server Setup\n",
    "\n",
    "This notebook is a playground for those interested in developing interactive web applications using LangChain and [**LangServe**](https://python.langchain.com/docs/langserve). The aim is to provide a minimal-code example to illustrate the potential of LangChain in web application contexts.\n",
    "\n",
    "This section provides a walkthrough for setting up a simple API server using LangChain's Runnable interfaces with FastAPI. The example demonstrates how to integrate a LangChain model, such as `ChatNVIDIA`, to create and distribute accessible API routes. Using this, you will be able to supply functionality to the frontend service's [**`frontend_server.py`**](frontend/frontend_server.py) session, which strongly expects:\n",
    "- A simple endpoint named `:9012/basic_chat` for the basic chatbot, exemplified below.\n",
    "- A pair of endpoints named `:9012/retriever` and `:9012/generator` for the RAG chatbot.\n",
    "- All three for the **Evaluate** utility, which will be required for the final assessment. *More on that later!*\n",
    "\n",
    "**IMPORTANT NOTES:**\n",
    "- Make sure to click the square ( $\\square$ ) button twice to shut down an active FastAPI cell. The first time might fall through or trigger a try-catch routine on an asynchronous process.\n",
    "- If it still doesn't work, do a hard restart on this notebook by using **Kernel -> Restart Kernel**.\n",
    "- When a FastAPI server is running in your cell, expect the process to block up this notebook. Other notebooks should not be impacted by this. "
   ]
  },
  {
   "cell_type": "markdown",
   "id": "YRX1R3GupzkZ",
   "metadata": {
    "id": "YRX1R3GupzkZ"
   },
   "source": [
    "<br>\n",
    "\n",
    "### **Part 1:** Delivering the /basic_chat endpoint\n",
    "\n",
    "Instructions are provided for launching a `/basic_chat` endpoint both as a standalone Python file. This will be used by the frontend to make basic decision with no internal reasoning."
   ]
  },
  {
   "cell_type": "code",
   "execution_count": 1,
   "id": "TniVLtL-qcqo",
   "metadata": {
    "colab": {
     "base_uri": "https://localhost:8080/"
    },
    "executionInfo": {
     "elapsed": 24,
     "status": "ok",
     "timestamp": 1702915515784,
     "user": {
      "displayName": "Vadim Kudlay",
      "userId": "00553664172613290122"
     },
     "user_tz": 360
    },
    "id": "TniVLtL-qcqo",
    "outputId": "7ff6eb58-b9c1-4ce9-b15a-b1a515045ae0"
   },
   "outputs": [
    {
     "name": "stdout",
     "output_type": "stream",
     "text": [
      "Writing server_app.py\n"
     ]
    }
   ],
   "source": [
    "%%writefile server_app.py\n",
    "# https://python.langchain.com/docs/langserve#server\n",
    "from fastapi import FastAPI\n",
    "from langchain_nvidia_ai_endpoints import ChatNVIDIA, NVIDIAEmbeddings\n",
    "from langserve import add_routes\n",
    "\n",
    "## May be useful later\n",
    "from langchain_core.output_parsers import StrOutputParser\n",
    "from langchain_core.prompts import ChatPromptTemplate, PromptTemplate\n",
    "from langchain_core.prompt_values import ChatPromptValue\n",
    "from langchain_core.runnables import RunnableLambda, RunnableBranch, RunnablePassthrough\n",
    "from langchain_core.runnables.passthrough import RunnableAssign\n",
    "from langchain_community.document_transformers import LongContextReorder\n",
    "from functools import partial\n",
    "from operator import itemgetter\n",
    "\n",
    "from langchain_community.vectorstores import FAISS\n",
    "\n",
    "## TODO: Make sure to pick your LLM and do your prompt engineering as necessary for the final assessment\n",
    "embedder = NVIDIAEmbeddings(model=\"nvidia/nv-embed-v1\", truncate=\"END\")\n",
    "instruct_llm = ChatNVIDIA(model=\"meta/llama-3.1-8b-instruct\")\n",
    "\n",
    "app = FastAPI(\n",
    "  title=\"LangChain Server\",\n",
    "  version=\"1.0\",\n",
    "  description=\"A simple api server using Langchain's Runnable interfaces\",\n",
    ")\n",
    "\n",
    "## Load the document store\n",
    "try:\n",
    "    import os\n",
    "    if os.path.exists(\"docstore_index.tgz\"):\n",
    "        os.system(\"tar xzf docstore_index.tgz\")\n",
    "    docstore = FAISS.load_local(\"docstore_index\", embedder, allow_dangerous_deserialization=True)\n",
    "    print(f\"Loaded docstore with {len(docstore.docstore._dict)} documents\")\n",
    "except Exception as e:\n",
    "    print(f\"Failed to load docstore: {e}\")\n",
    "    # Create empty docstore as fallback\n",
    "    from faiss import IndexFlatL2\n",
    "    from langchain_community.docstore.in_memory import InMemoryDocstore\n",
    "    embed_dims = len(embedder.embed_query(\"test\"))\n",
    "    docstore = FAISS(\n",
    "        embedding_function=embedder,\n",
    "        index=IndexFlatL2(embed_dims),\n",
    "        docstore=InMemoryDocstore(),\n",
    "        index_to_docstore_id={},\n",
    "        normalize_L2=False\n",
    "    )\n",
    "\n",
    "## PRE-ASSESSMENT: Run as-is and see the basic chain in action\n",
    "add_routes(\n",
    "    app,\n",
    "    instruct_llm,\n",
    "    path=\"/basic_chat\",\n",
    ")\n",
    "\n",
    "## ASSESSMENT TODO: Implement these components as appropriate\n",
    "\n",
    "# Generator: takes input dict with 'input' and 'context', returns string response\n",
    "chat_prompt = ChatPromptTemplate.from_template(\n",
    "    \"You are a document chatbot. Help the user as they ask questions about documents.\"\n",
    "    \" User messaged just asked you a question: {input}\\n\\n\"\n",
    "    \" The following information may be useful for your response: \"\n",
    "    \" Document Retrieval:\\n{context}\\n\\n\"\n",
    "    \" (Answer only from retrieval. Only cite sources that are used. Make your response conversational)\"\n",
    "    \"\\n\\nUser Question: {input}\"\n",
    ")\n",
    "\n",
    "generator_chain = chat_prompt | instruct_llm | StrOutputParser()\n",
    "\n",
    "add_routes(\n",
    "    app,\n",
    "    generator_chain,\n",
    "    path=\"/generator\",\n",
    ")\n",
    "\n",
    "# Retriever: takes string input, returns list of Document objects\n",
    "retriever_chain = docstore.as_retriever()\n",
    "\n",
    "add_routes(\n",
    "    app,\n",
    "    retriever_chain,\n",
    "    path=\"/retriever\",\n",
    ")\n",
    "\n",
    "## Might be encountered if this were for a standalone python file...\n",
    "if __name__ == \"__main__\":\n",
    "    import uvicorn\n",
    "    uvicorn.run(app, host=\"0.0.0.0\", port=9012)"
   ]
  },
  {
   "cell_type": "code",
   "execution_count": null,
   "id": "u2xDAYn1qi_D",
   "metadata": {
    "colab": {
     "background_save": true,
     "base_uri": "https://localhost:8080/"
    },
    "id": "u2xDAYn1qi_D",
    "outputId": "ef35c8f4-210c-4c10-82e5-a3de2bfe1835"
   },
   "outputs": [
    {
     "name": "stdout",
     "output_type": "stream",
     "text": [
      "Loaded docstore with 253 documents\n",
      "\u001b[32mINFO\u001b[0m:     Started server process [\u001b[36m596\u001b[0m]\n",
      "\u001b[32mINFO\u001b[0m:     Waiting for application startup.\n",
      "\n",
      "     __          ___      .__   __.   _______      _______. _______ .______     ____    ____  _______\n",
      "    |  |        /   \\     |  \\ |  |  /  _____|    /       ||   ____||   _  \\    \\   \\  /   / |   ____|\n",
      "    |  |       /  ^  \\    |   \\|  | |  |  __     |   (----`|  |__   |  |_)  |    \\   \\/   /  |  |__\n",
      "    |  |      /  /_\\  \\   |  . `  | |  | |_ |     \\   \\    |   __|  |      /      \\      /   |   __|\n",
      "    |  `----./  _____  \\  |  |\\   | |  |__| | .----)   |   |  |____ |  |\\  \\----.  \\    /    |  |____\n",
      "    |_______/__/     \\__\\ |__| \\__|  \\______| |_______/    |_______|| _| `._____|   \\__/     |_______|\n",
      "    \n",
      "\u001b[1;32;40mLANGSERVE:\u001b[0m Playground for chain \"/retriever/\" is live at:\n",
      "\u001b[1;32;40mLANGSERVE:\u001b[0m  │\n",
      "\u001b[1;32;40mLANGSERVE:\u001b[0m  └──> /retriever/playground/\n",
      "\u001b[1;32;40mLANGSERVE:\u001b[0m\n",
      "\u001b[1;32;40mLANGSERVE:\u001b[0m Playground for chain \"/basic_chat/\" is live at:\n",
      "\u001b[1;32;40mLANGSERVE:\u001b[0m  │\n",
      "\u001b[1;32;40mLANGSERVE:\u001b[0m  └──> /basic_chat/playground/\n",
      "\u001b[1;32;40mLANGSERVE:\u001b[0m\n",
      "\u001b[1;32;40mLANGSERVE:\u001b[0m Playground for chain \"/generator/\" is live at:\n",
      "\u001b[1;32;40mLANGSERVE:\u001b[0m  │\n",
      "\u001b[1;32;40mLANGSERVE:\u001b[0m  └──> /generator/playground/\n",
      "\u001b[1;32;40mLANGSERVE:\u001b[0m\n",
      "\u001b[1;32;40mLANGSERVE:\u001b[0m See all available routes at /docs/\n",
      "\u001b[32mINFO\u001b[0m:     Application startup complete.\n",
      "\u001b[32mINFO\u001b[0m:     Uvicorn running on \u001b[1mhttp://0.0.0.0:9012\u001b[0m (Press CTRL+C to quit)\n",
      "\u001b[32mINFO\u001b[0m:     172.18.0.9:42004 - \"\u001b[1mPOST /basic_chat/stream HTTP/1.1\u001b[0m\" \u001b[32m200 OK\u001b[0m\n",
      "\u001b[32mINFO\u001b[0m:     172.18.0.9:53000 - \"\u001b[1mPOST /basic_chat/stream HTTP/1.1\u001b[0m\" \u001b[32m200 OK\u001b[0m\n",
      "\u001b[32mINFO\u001b[0m:     172.18.0.9:57034 - \"\u001b[1mPOST /basic_chat/stream HTTP/1.1\u001b[0m\" \u001b[32m200 OK\u001b[0m\n",
      "\u001b[31mERROR\u001b[0m:    Exception in ASGI application\n",
      "  + Exception Group Traceback (most recent call last):\n",
      "  |   File \"/usr/local/lib/python3.11/site-packages/uvicorn/protocols/http/httptools_impl.py\", line 411, in run_asgi\n",
      "  |     result = await app(  # type: ignore[func-returns-value]\n",
      "  |              ^^^^^^^^^^^^^^^^^^^^^^^^^^^^^^^^^^^^^^^^^^^^^^\n",
      "  |   File \"/usr/local/lib/python3.11/site-packages/uvicorn/middleware/proxy_headers.py\", line 69, in __call__\n",
      "  |     return await self.app(scope, receive, send)\n",
      "  |            ^^^^^^^^^^^^^^^^^^^^^^^^^^^^^^^^^^^^\n",
      "  |   File \"/usr/local/lib/python3.11/site-packages/fastapi/applications.py\", line 1054, in __call__\n",
      "  |     await super().__call__(scope, receive, send)\n",
      "  |   File \"/usr/local/lib/python3.11/site-packages/starlette/applications.py\", line 123, in __call__\n",
      "  |     await self.middleware_stack(scope, receive, send)\n",
      "  |   File \"/usr/local/lib/python3.11/site-packages/starlette/middleware/errors.py\", line 186, in __call__\n",
      "  |     raise exc\n",
      "  |   File \"/usr/local/lib/python3.11/site-packages/starlette/middleware/errors.py\", line 164, in __call__\n",
      "  |     await self.app(scope, receive, _send)\n",
      "  |   File \"/usr/local/lib/python3.11/site-packages/starlette/middleware/exceptions.py\", line 65, in __call__\n",
      "  |     await wrap_app_handling_exceptions(self.app, conn)(scope, receive, send)\n",
      "  |   File \"/usr/local/lib/python3.11/site-packages/starlette/_exception_handler.py\", line 64, in wrapped_app\n",
      "  |     raise exc\n",
      "  |   File \"/usr/local/lib/python3.11/site-packages/starlette/_exception_handler.py\", line 53, in wrapped_app\n",
      "  |     await app(scope, receive, sender)\n",
      "  |   File \"/usr/local/lib/python3.11/site-packages/starlette/routing.py\", line 756, in __call__\n",
      "  |     await self.middleware_stack(scope, receive, send)\n",
      "  |   File \"/usr/local/lib/python3.11/site-packages/starlette/routing.py\", line 776, in app\n",
      "  |     await route.handle(scope, receive, send)\n",
      "  |   File \"/usr/local/lib/python3.11/site-packages/starlette/routing.py\", line 297, in handle\n",
      "  |     await self.app(scope, receive, send)\n",
      "  |   File \"/usr/local/lib/python3.11/site-packages/starlette/routing.py\", line 77, in app\n",
      "  |     await wrap_app_handling_exceptions(app, request)(scope, receive, send)\n",
      "  |   File \"/usr/local/lib/python3.11/site-packages/starlette/_exception_handler.py\", line 64, in wrapped_app\n",
      "  |     raise exc\n",
      "  |   File \"/usr/local/lib/python3.11/site-packages/starlette/_exception_handler.py\", line 53, in wrapped_app\n",
      "  |     await app(scope, receive, sender)\n",
      "  |   File \"/usr/local/lib/python3.11/site-packages/starlette/routing.py\", line 75, in app\n",
      "  |     await response(scope, receive, send)\n",
      "  |   File \"/usr/local/lib/python3.11/site-packages/sse_starlette/sse.py\", line 268, in __call__\n",
      "  |     async with anyio.create_task_group() as task_group:\n",
      "  |   File \"/usr/local/lib/python3.11/site-packages/anyio/_backends/_asyncio.py\", line 772, in __aexit__\n",
      "  |     raise BaseExceptionGroup(\n",
      "  | ExceptionGroup: unhandled errors in a TaskGroup (1 sub-exception)\n",
      "  +-+---------------- 1 ----------------\n",
      "    | Traceback (most recent call last):\n",
      "    |   File \"/usr/local/lib/python3.11/site-packages/sse_starlette/sse.py\", line 271, in wrap\n",
      "    |     await func()\n",
      "    |   File \"/usr/local/lib/python3.11/site-packages/sse_starlette/sse.py\", line 251, in stream_response\n",
      "    |     async for data in self.body_iterator:\n",
      "    |   File \"/usr/local/lib/python3.11/site-packages/langserve/api_handler.py\", line 1184, in _stream\n",
      "    |     async for chunk in self._runnable.astream(\n",
      "    |   File \"/usr/local/lib/python3.11/site-packages/langchain_core/language_models/chat_models.py\", line 512, in astream\n",
      "    |     async for chunk in self._astream(\n",
      "    |   File \"/usr/local/lib/python3.11/site-packages/langchain_core/language_models/chat_models.py\", line 1056, in _astream\n",
      "    |     item = await run_in_executor(\n",
      "    |            ^^^^^^^^^^^^^^^^^^^^^^\n",
      "    |   File \"/usr/local/lib/python3.11/site-packages/langchain_core/runnables/config.py\", line 622, in run_in_executor\n",
      "    |     return await asyncio.get_running_loop().run_in_executor(\n",
      "    |            ^^^^^^^^^^^^^^^^^^^^^^^^^^^^^^^^^^^^^^^^^^^^^^^^^\n",
      "    |   File \"/usr/local/lib/python3.11/concurrent/futures/thread.py\", line 58, in run\n",
      "    |     result = self.fn(*self.args, **self.kwargs)\n",
      "    |              ^^^^^^^^^^^^^^^^^^^^^^^^^^^^^^^^^^\n",
      "    |   File \"/usr/local/lib/python3.11/site-packages/langchain_core/runnables/config.py\", line 613, in wrapper\n",
      "    |     return func(*args, **kwargs)\n",
      "    |            ^^^^^^^^^^^^^^^^^^^^^\n",
      "    |   File \"/usr/local/lib/python3.11/site-packages/langchain_nvidia_ai_endpoints/chat_models.py\", line 420, in _stream\n",
      "    |     for response in self._client.get_req_stream(\n",
      "    |                     ^^^^^^^^^^^^^^^^^^^^^^^^^^^^\n",
      "    |   File \"/usr/local/lib/python3.11/site-packages/langchain_nvidia_ai_endpoints/_common.py\", line 563, in get_req_stream\n",
      "    |     self._try_raise(response)\n",
      "    |   File \"/usr/local/lib/python3.11/site-packages/langchain_nvidia_ai_endpoints/_common.py\", line 462, in _try_raise\n",
      "    |     raise Exception(f\"{header}\\n{body}\") from None\n",
      "    | Exception: [###] Unknown Error\n",
      "    | {'error': {'message': \"Timeout occurred when trying to call 'https://api.openai.com/v1/models'\", 'type': 'request_timeout_error', 'param': 'path', 'code': 'request_timed_out'}}\n",
      "    +------------------------------------\n",
      "\u001b[32mINFO\u001b[0m:     172.18.0.9:54308 - \"\u001b[1mPOST /basic_chat/stream HTTP/1.1\u001b[0m\" \u001b[32m200 OK\u001b[0m\n",
      "\u001b[32mINFO\u001b[0m:     172.18.0.9:54316 - \"\u001b[1mPOST /basic_chat/stream HTTP/1.1\u001b[0m\" \u001b[32m200 OK\u001b[0m\n",
      "\u001b[32mINFO\u001b[0m:     172.18.0.9:38580 - \"\u001b[1mPOST /basic_chat/stream HTTP/1.1\u001b[0m\" \u001b[32m200 OK\u001b[0m\n",
      "\u001b[32mINFO\u001b[0m:     172.18.0.9:38588 - \"\u001b[1mPOST /basic_chat/stream HTTP/1.1\u001b[0m\" \u001b[32m200 OK\u001b[0m\n",
      "\u001b[32mINFO\u001b[0m:     172.18.0.9:38602 - \"\u001b[1mPOST /basic_chat/stream HTTP/1.1\u001b[0m\" \u001b[32m200 OK\u001b[0m\n",
      "\u001b[32mINFO\u001b[0m:     172.18.0.9:60972 - \"\u001b[1mPOST /basic_chat/stream HTTP/1.1\u001b[0m\" \u001b[32m200 OK\u001b[0m\n",
      "\u001b[32mINFO\u001b[0m:     172.18.0.9:60984 - \"\u001b[1mPOST /basic_chat/stream HTTP/1.1\u001b[0m\" \u001b[32m200 OK\u001b[0m\n",
      "\u001b[32mINFO\u001b[0m:     172.18.0.9:60998 - \"\u001b[1mPOST /basic_chat/stream HTTP/1.1\u001b[0m\" \u001b[32m200 OK\u001b[0m\n",
      "\u001b[32mINFO\u001b[0m:     172.18.0.9:41340 - \"\u001b[1mPOST /basic_chat/stream HTTP/1.1\u001b[0m\" \u001b[32m200 OK\u001b[0m\n",
      "\u001b[32mINFO\u001b[0m:     172.18.0.9:41356 - \"\u001b[1mPOST /basic_chat/stream HTTP/1.1\u001b[0m\" \u001b[32m200 OK\u001b[0m\n",
      "\u001b[32mINFO\u001b[0m:     172.18.0.9:41364 - \"\u001b[1mPOST /basic_chat/stream HTTP/1.1\u001b[0m\" \u001b[32m200 OK\u001b[0m\n",
      "\u001b[32mINFO\u001b[0m:     172.18.0.9:41380 - \"\u001b[1mPOST /basic_chat/stream HTTP/1.1\u001b[0m\" \u001b[32m200 OK\u001b[0m\n",
      "\u001b[32mINFO\u001b[0m:     172.18.0.9:41386 - \"\u001b[1mPOST /basic_chat/stream HTTP/1.1\u001b[0m\" \u001b[32m200 OK\u001b[0m\n",
      "\u001b[32mINFO\u001b[0m:     172.18.0.9:41388 - \"\u001b[1mPOST /basic_chat/stream HTTP/1.1\u001b[0m\" \u001b[32m200 OK\u001b[0m\n",
      "\u001b[32mINFO\u001b[0m:     172.18.0.9:49346 - \"\u001b[1mPOST /basic_chat/stream HTTP/1.1\u001b[0m\" \u001b[32m200 OK\u001b[0m\n",
      "\u001b[32mINFO\u001b[0m:     172.18.0.9:49362 - \"\u001b[1mPOST /basic_chat/stream HTTP/1.1\u001b[0m\" \u001b[32m200 OK\u001b[0m\n",
      "\u001b[32mINFO\u001b[0m:     172.18.0.9:49372 - \"\u001b[1mPOST /basic_chat/stream HTTP/1.1\u001b[0m\" \u001b[32m200 OK\u001b[0m\n",
      "\u001b[32mINFO\u001b[0m:     172.18.0.9:49378 - \"\u001b[1mPOST /basic_chat/stream HTTP/1.1\u001b[0m\" \u001b[32m200 OK\u001b[0m\n",
      "\u001b[32mINFO\u001b[0m:     172.18.0.9:35600 - \"\u001b[1mPOST /basic_chat/stream HTTP/1.1\u001b[0m\" \u001b[32m200 OK\u001b[0m\n",
      "\u001b[32mINFO\u001b[0m:     172.18.0.9:35606 - \"\u001b[1mPOST /basic_chat/stream HTTP/1.1\u001b[0m\" \u001b[32m200 OK\u001b[0m\n",
      "\u001b[32mINFO\u001b[0m:     172.18.0.9:49408 - \"\u001b[1mPOST /basic_chat/stream HTTP/1.1\u001b[0m\" \u001b[32m200 OK\u001b[0m\n",
      "\u001b[32mINFO\u001b[0m:     172.18.0.9:49418 - \"\u001b[1mPOST /basic_chat/stream HTTP/1.1\u001b[0m\" \u001b[32m200 OK\u001b[0m\n",
      "\u001b[32mINFO\u001b[0m:     172.18.0.9:49422 - \"\u001b[1mPOST /basic_chat/stream HTTP/1.1\u001b[0m\" \u001b[32m200 OK\u001b[0m\n",
      "\u001b[32mINFO\u001b[0m:     172.18.0.9:35494 - \"\u001b[1mPOST /basic_chat/stream HTTP/1.1\u001b[0m\" \u001b[32m200 OK\u001b[0m\n"
     ]
    }
   ],
   "source": [
    "## Works, but will block the notebook.\n",
    "!python server_app.py  \n",
    "\n",
    "## Will technically work, but not recommended in a notebook. \n",
    "## You may be surprised at the interesting side effects...\n",
    "# import os\n",
    "# os.system(\"python server_app.py &\")"
   ]
  },
  {
   "cell_type": "markdown",
   "id": "g9uRMEOrsy1d",
   "metadata": {
    "id": "g9uRMEOrsy1d"
   },
   "source": [
    "<br>\n",
    "\n",
    "### **Part 2:** Using The Server:\n",
    "\n",
    "While this cannot be easily utilized within Google Colab (or at least not without a lot of special tricks), the above script will keep a running server tied to the notebook process. While the server is running, do not attempt to use this notebook (except to shut down/restart the service).\n",
    "\n",
    "In another file, however, you should be able to access the `basic_chat` endpoint using the following interface:\n",
    "\n",
    "```python\n",
    "from langserve import RemoteRunnable\n",
    "from langchain_core.output_parsers import StrOutputParser\n",
    "\n",
    "llm = RemoteRunnable(\"http://0.0.0.0:9012/basic_chat/\") | StrOutputParser()\n",
    "for token in llm.stream(\"Hello World! How is it going?\"):\n",
    "    print(token, end='')\n",
    "```\n",
    "\n",
    "**Please try it out in a different file and see if it works!**\n"
   ]
  },
  {
   "cell_type": "markdown",
   "id": "6a1d5501-b916-4045-bb61-b9f35ecad5df",
   "metadata": {},
   "source": [
    "<br>\n",
    "\n",
    "### **Part 3: Final Assessment**\n",
    "\n",
    "**This notebook will be used to completing the final assessment!** When you have otherwise finished the course, we recommend cloning this notebook, getting the frontend open in a new tab, and implement the Evaluate functionality by implementing the `/generator` and `/retriever` endpoints above! For a quick link to the frontend, run the cell below:"
   ]
  },
  {
   "cell_type": "code",
   "execution_count": null,
   "id": "24beaf98-fb5e-477d-a711-5204f1cb4057",
   "metadata": {},
   "outputs": [],
   "source": [
    "%%js\n",
    "var url = 'http://'+window.location.host+':8090';\n",
    "element.innerHTML = '<a style=\"color:#76b900;\" target=\"_blank\" href='+url+'><h2>< Link To Gradio Frontend ></h2></a>';"
   ]
  },
  {
   "cell_type": "markdown",
   "id": "fdbff129",
   "metadata": {},
   "source": [
    "<hr>\n",
    "<br>\n",
    "\n",
    "#### **Assessment Hint:** \n",
    "Note that the following functionality is already implemented in the frontend microservice. \n",
    "\n",
    "```python\n",
    "## Necessary Endpoints\n",
    "chains_dict = {\n",
    "    'basic' : RemoteRunnable(\"http://lab:9012/basic_chat/\"),\n",
    "    'retriever' : RemoteRunnable(\"http://lab:9012/retriever/\"),  ## For the final assessment\n",
    "    'generator' : RemoteRunnable(\"http://lab:9012/generator/\"),  ## For the final assessment\n",
    "}\n",
    "\n",
    "basic_chain = chains_dict['basic']\n",
    "\n",
    "## Retrieval-Augmented Generation Chain\n",
    "\n",
    "retrieval_chain = (\n",
    "    {'input' : (lambda x: x)}\n",
    "    | RunnableAssign(\n",
    "        {'context' : itemgetter('input') \n",
    "        | chains_dict['retriever'] \n",
    "        | LongContextReorder().transform_documents\n",
    "        | docs2str\n",
    "    })\n",
    ")\n",
    "\n",
    "output_chain = RunnableAssign({\"output\" : chains_dict['generator'] }) | output_puller\n",
    "rag_chain = retrieval_chain | output_chain\n",
    "```\n",
    "\n",
    "**To conform to this endpoint ingestion strategy, make sure not to duplicate pipeline functionality and only deploy the features that are missing!**"
   ]
  },
  {
   "cell_type": "markdown",
   "id": "49c72a8e-3b5b-4442-a6aa-b94b839cacb2",
   "metadata": {},
   "source": [
    "----"
   ]
  },
  {
   "cell_type": "markdown",
   "id": "2c642796-2fc1-4ddf-a96a-35c0dbb3a54a",
   "metadata": {
    "id": "2c642796-2fc1-4ddf-a96a-35c0dbb3a54a"
   },
   "source": [
    "<center><a href=\"https://www.nvidia.com/en-us/training/\"><img src=\"https://dli-lms.s3.amazonaws.com/assets/general/DLI_Header_White.png\" width=\"400\" height=\"186\" /></a></center>"
   ]
  }
 ],
 "metadata": {
  "colab": {
   "provenance": []
  },
  "kernelspec": {
   "display_name": "Python 3 (ipykernel)",
   "language": "python",
   "name": "python3"
  },
  "language_info": {
   "codemirror_mode": {
    "name": "ipython",
    "version": 3
   },
   "file_extension": ".py",
   "mimetype": "text/x-python",
   "name": "python",
   "nbconvert_exporter": "python",
   "pygments_lexer": "ipython3",
   "version": "3.11.11"
  }
 },
 "nbformat": 4,
 "nbformat_minor": 5
}
